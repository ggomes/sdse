{
 "cells": [
  {
   "cell_type": "code",
   "execution_count": null,
   "metadata": {
    "deletable": false,
    "editable": false
   },
   "outputs": [],
   "source": [
    "# Initialize Otter\n",
    "import otter\n",
    "grader = otter.Notebook(\"lab3.ipynb\")"
   ]
  },
  {
   "cell_type": "code",
   "execution_count": null,
   "metadata": {
    "execution": {
     "iopub.execute_input": "2025-10-06T03:53:57.104743Z",
     "iopub.status.busy": "2025-10-06T03:53:57.104637Z",
     "iopub.status.idle": "2025-10-06T03:53:57.674444Z",
     "shell.execute_reply": "2025-10-06T03:53:57.674073Z"
    }
   },
   "outputs": [],
   "source": [
    "import numpy as np\n",
    "import matplotlib.pyplot as plt\n",
    "import pickle\n",
    "import scipy.stats as stats\n",
    "from resources.hashutils import *"
   ]
  },
  {
   "cell_type": "markdown",
   "metadata": {},
   "source": [
    "---\n",
    "\n",
    "<h1><center>SDSE Lab 3 <br><br> K-means clustering </center></h1>\n",
    "\n",
    "---"
   ]
  },
  {
   "cell_type": "markdown",
   "metadata": {
    "deletable": false,
    "editable": false
   },
   "source": [
    "# 1) Load the data\n",
    "Load the dataset using the function `load_data()` function, call it `D`.  Save the number of samples (rows) as `N` and the number of features (columns) as `P`."
   ]
  },
  {
   "cell_type": "code",
   "execution_count": null,
   "metadata": {
    "execution": {
     "iopub.execute_input": "2025-10-06T03:53:57.676275Z",
     "iopub.status.busy": "2025-10-06T03:53:57.676068Z",
     "iopub.status.idle": "2025-10-06T03:53:57.680309Z",
     "shell.execute_reply": "2025-10-06T03:53:57.679952Z"
    },
    "tags": [
     "otter_answer_cell"
    ]
   },
   "outputs": [],
   "source": [
    "def load_data():\n",
    "    with open('resources/data2d.pickle','rb') as f:\n",
    "        D = pickle.load(f)\n",
    "    return D\n",
    "    \n",
    "...\n",
    "N = ...    # TODO\n",
    "P = ...    # TODO"
   ]
  },
  {
   "cell_type": "code",
   "execution_count": null,
   "metadata": {
    "deletable": false,
    "editable": false
   },
   "outputs": [],
   "source": [
    "grader.check(\"q1\")"
   ]
  },
  {
   "cell_type": "markdown",
   "metadata": {
    "deletable": false,
    "editable": false
   },
   "source": [
    "# 2) Scatter plot\n",
    "Create a scatter plot with the first column of `D` along the x-axis and the second column along the y-axis. Use `plt.axis('equal')` to force the two axes to have the same scale. This is important for correct visualization of the Euclidean distances between points. Your figure should look like the one below.\n",
    "\n",
    "Food for thought: How many clusters do you see?\n",
    "\n",
    "<img src=\"resources/2.png\" />"
   ]
  },
  {
   "cell_type": "code",
   "execution_count": null,
   "metadata": {
    "execution": {
     "iopub.execute_input": "2025-10-06T03:53:57.724721Z",
     "iopub.status.busy": "2025-10-06T03:53:57.724532Z",
     "iopub.status.idle": "2025-10-06T03:53:57.792190Z",
     "shell.execute_reply": "2025-10-06T03:53:57.791855Z"
    },
    "tags": [
     "otter_answer_cell"
    ]
   },
   "outputs": [],
   "source": [
    "fig = plt.figure(figsize=(5,5))\n",
    "ax = plt.subplot()\n",
    "...  # TODO"
   ]
  },
  {
   "cell_type": "markdown",
   "metadata": {
    "deletable": false,
    "editable": false
   },
   "source": [
    "# 3) Random placement of centroids\n",
    "Write a function that takes an integer `K` and the data matrix `D` as inputs, and returns `K` centroids randomly placed within the box spanned by the columns of `D`. The shape of the return value should be `(K,P)`. \n",
    "\n",
    "The template also takes a third optional parameter. This is used by the autograder to ensure repeatable results. \n",
    "\n",
    "**Note**: You should use `stats.uniform.rvs(loc=..., scale=..., size=...)` to generate random centroid placements. "
   ]
  },
  {
   "cell_type": "code",
   "execution_count": null,
   "metadata": {
    "execution": {
     "iopub.execute_input": "2025-10-06T03:53:57.793646Z",
     "iopub.status.busy": "2025-10-06T03:53:57.793535Z",
     "iopub.status.idle": "2025-10-06T03:53:57.797692Z",
     "shell.execute_reply": "2025-10-06T03:53:57.797475Z"
    },
    "tags": [
     "otter_answer_cell"
    ]
   },
   "outputs": [],
   "source": [
    "def initialize_centroids(K,D,random_seed=None):\n",
    "    if random_seed is not None:\n",
    "        np.random.seed(seed=random_seed)\n",
    "    P = D.shape[1]\n",
    "    C = np.empty((K,P))\n",
    "    ...    # TODO\n",
    "    return C"
   ]
  },
  {
   "cell_type": "code",
   "execution_count": null,
   "metadata": {
    "deletable": false,
    "editable": false
   },
   "outputs": [],
   "source": [
    "grader.check(\"q3\")"
   ]
  },
  {
   "cell_type": "markdown",
   "metadata": {
    "deletable": false,
    "editable": false
   },
   "source": [
    "# 4) Compute the assignment for given centroids\n",
    "Write a function that takes the data matrix `D` (shape `(N,P)`) and centroid locations `C` (shape `(K,P)`) as inputs, and returns an assignment matrix `gamma`. `gamma` should be a numpy array with shape `(N,K)`. Each row of `gamma` should contain `K-1` `False` values and one `True` value in the position corresponding to the centroid that is nearest to that data point (Euclidean distance). \n",
    "\n",
    "Hint: `np.argmin`."
   ]
  },
  {
   "cell_type": "code",
   "execution_count": null,
   "metadata": {
    "execution": {
     "iopub.execute_input": "2025-10-06T03:53:57.813861Z",
     "iopub.status.busy": "2025-10-06T03:53:57.813672Z",
     "iopub.status.idle": "2025-10-06T03:53:57.816482Z",
     "shell.execute_reply": "2025-10-06T03:53:57.816223Z"
    },
    "tags": [
     "otter_answer_cell"
    ]
   },
   "outputs": [],
   "source": [
    "def assign_samples_to_nearest_centroid(D,C):\n",
    "    N = ...  # TODO\n",
    "    K = ...  # TODO\n",
    "    gamma = np.zeros((N,K),dtype=bool)  # Initialized to all False\n",
    "    ...  # TODO\n",
    "    return gamma"
   ]
  },
  {
   "cell_type": "code",
   "execution_count": null,
   "metadata": {
    "execution": {
     "iopub.execute_input": "2025-10-06T03:53:57.818227Z",
     "iopub.status.busy": "2025-10-06T03:53:57.818023Z",
     "iopub.status.idle": "2025-10-06T03:53:57.820508Z",
     "shell.execute_reply": "2025-10-06T03:53:57.820247Z"
    },
    "tags": [
     "otter_answer_cell"
    ]
   },
   "outputs": [],
   "source": [
    "D = load_data()\n",
    "C4 = initialize_centroids(4,D,random_seed=234)\n",
    "gamma4 = assign_samples_to_nearest_centroid(D,C4)"
   ]
  },
  {
   "cell_type": "code",
   "execution_count": null,
   "metadata": {
    "execution": {
     "iopub.execute_input": "2025-10-06T03:53:57.821464Z",
     "iopub.status.busy": "2025-10-06T03:53:57.821262Z",
     "iopub.status.idle": "2025-10-06T03:53:57.823701Z",
     "shell.execute_reply": "2025-10-06T03:53:57.823472Z"
    },
    "tags": [
     "otter_answer_cell"
    ]
   },
   "outputs": [],
   "source": [
    "C8 = initialize_centroids(8,D,random_seed=324)\n",
    "gamma8 = assign_samples_to_nearest_centroid(D,C8)"
   ]
  },
  {
   "cell_type": "code",
   "execution_count": null,
   "metadata": {
    "deletable": false,
    "editable": false
   },
   "outputs": [],
   "source": [
    "grader.check(\"q4\")"
   ]
  },
  {
   "cell_type": "markdown",
   "metadata": {
    "deletable": false,
    "editable": false
   },
   "source": [
    "# 5) Plot data, centroids, assignment\n",
    "Write a function that takes as input the data matrix `D`, a centroids matrix `C`, and an assignment matrix `gamma`, and creates a scatter plot similar to the one shown here. The centroids should be indicated with a star ('*') with the marker edge color set to black. The data samples should be color-coded according to their cluster membership. Your plot may not look identical to this one due to the random placement of the centroids.\n",
    "\n",
    "<img src=\"resources/5.png\" />\n",
    "\n",
    "\n",
    "Hints:\n",
    "+ The colors to use is given in the list called `colors`.\n",
    "+ You can use the `plot` function with input arguments `markersize`, `markersize`, `markeredgecolor`, and `color`."
   ]
  },
  {
   "cell_type": "code",
   "execution_count": null,
   "metadata": {
    "execution": {
     "iopub.execute_input": "2025-10-06T03:53:57.840715Z",
     "iopub.status.busy": "2025-10-06T03:53:57.840521Z",
     "iopub.status.idle": "2025-10-06T03:53:57.843608Z",
     "shell.execute_reply": "2025-10-06T03:53:57.843379Z"
    },
    "tags": [
     "otter_answer_cell"
    ]
   },
   "outputs": [],
   "source": [
    "colors = ['tab:blue','tab:orange','tab:green','tab:red']\n",
    "\n",
    "def plot_data(D, C, gamma):\n",
    "    K = ...  # TODO\n",
    "    plt.figure(figsize=(5,5))\n",
    "    ax = plt.subplot()\n",
    "    for k in range(K):\n",
    "        ax.plot(...,...,'.',color=...,markersize=...)  # data\n",
    "        ax.plot(...,...,'*',color=...,markersize=...,markeredgecolor=...) # centroids\n",
    "    ax.axis('equal')"
   ]
  },
  {
   "cell_type": "code",
   "execution_count": null,
   "metadata": {
    "execution": {
     "iopub.execute_input": "2025-10-06T03:53:57.844624Z",
     "iopub.status.busy": "2025-10-06T03:53:57.844442Z",
     "iopub.status.idle": "2025-10-06T03:53:57.903762Z",
     "shell.execute_reply": "2025-10-06T03:53:57.903517Z"
    },
    "tags": [
     "otter_answer_cell"
    ]
   },
   "outputs": [],
   "source": [
    "plot_data(D, C4, gamma4)"
   ]
  },
  {
   "cell_type": "markdown",
   "metadata": {
    "deletable": false,
    "editable": false
   },
   "source": [
    "# 6) Compute the centroids for a given assignment\n",
    "Write a function that takes the assignment `gamma` and the data matrix `D` and returns centroids placed at the mean of each cluster. The return value should be a numpy array with shape `(K,D)`."
   ]
  },
  {
   "cell_type": "code",
   "execution_count": null,
   "metadata": {
    "execution": {
     "iopub.execute_input": "2025-10-06T03:53:57.905924Z",
     "iopub.status.busy": "2025-10-06T03:53:57.905680Z",
     "iopub.status.idle": "2025-10-06T03:53:57.908508Z",
     "shell.execute_reply": "2025-10-06T03:53:57.908236Z"
    },
    "tags": [
     "otter_answer_cell"
    ]
   },
   "outputs": [],
   "source": [
    "def place_centroids(gamma, D):\n",
    "    K = gamma.shape[1]\n",
    "    P = D.shape[1]\n",
    "    C = np.empty((K,P))\n",
    "    ...    # TODO\n",
    "    return C"
   ]
  },
  {
   "cell_type": "code",
   "execution_count": null,
   "metadata": {
    "execution": {
     "iopub.execute_input": "2025-10-06T03:53:57.909613Z",
     "iopub.status.busy": "2025-10-06T03:53:57.909455Z",
     "iopub.status.idle": "2025-10-06T03:53:57.911267Z",
     "shell.execute_reply": "2025-10-06T03:53:57.911011Z"
    },
    "tags": [
     "otter_answer_cell"
    ]
   },
   "outputs": [],
   "source": [
    "D = load_data()\n",
    "newC4 = place_centroids(gamma4, D)"
   ]
  },
  {
   "cell_type": "code",
   "execution_count": null,
   "metadata": {
    "deletable": false,
    "editable": false
   },
   "outputs": [],
   "source": [
    "grader.check(\"q6\")"
   ]
  },
  {
   "cell_type": "markdown",
   "metadata": {
    "deletable": false,
    "editable": false
   },
   "source": [
    "# 7) Code K-means\n",
    "Now we will implement the K-means algorithm using the methods that we've coded so far. Implement the K-means algorithm described in class. \n",
    "\n",
    "The function `run_kmeans` takes the dataset `D` and initial centroids `C` as input. It returns the final placement of the centroids `C`, and the assignment matrix `gamma`. There are two stopping conditions:\n",
    "+ Stop and return `C=None` and `gamma=None` if any of the clusters becomes empty. \n",
    "+ Stop if the assignment matrix does not change from one iteration to the next. "
   ]
  },
  {
   "cell_type": "code",
   "execution_count": null,
   "metadata": {
    "execution": {
     "iopub.execute_input": "2025-10-06T03:53:57.922018Z",
     "iopub.status.busy": "2025-10-06T03:53:57.921804Z",
     "iopub.status.idle": "2025-10-06T03:53:57.924826Z",
     "shell.execute_reply": "2025-10-06T03:53:57.924610Z"
    },
    "tags": [
     "otter_answer_cell"
    ]
   },
   "outputs": [],
   "source": [
    "def run_kmeans(D,C):\n",
    "\n",
    "    done = False\n",
    "    first = True\n",
    "        \n",
    "    while not done:\n",
    "        \n",
    "        # compute assignment (E step)\n",
    "        gamma = ...\n",
    "        \n",
    "        # place centroids (M step)\n",
    "        C = ...\n",
    "        \n",
    "        # Break if any of the clusters are empty\n",
    "        # Return C=None and gamma=None\n",
    "        if ...:\n",
    "            ...\n",
    "            \n",
    "        # Break if there is no change in the assignment\n",
    "        if ...:\n",
    "            ...\n",
    "            \n",
    "        # update gamma\n",
    "        gammaold = gamma\n",
    "        first = False\n",
    "            \n",
    "    return C, gamma"
   ]
  },
  {
   "cell_type": "code",
   "execution_count": null,
   "metadata": {
    "execution": {
     "iopub.execute_input": "2025-10-06T03:53:57.925831Z",
     "iopub.status.busy": "2025-10-06T03:53:57.925640Z",
     "iopub.status.idle": "2025-10-06T03:53:57.930259Z",
     "shell.execute_reply": "2025-10-06T03:53:57.930012Z"
    },
    "tags": [
     "otter_answer_cell"
    ]
   },
   "outputs": [],
   "source": [
    "D = load_data()\n",
    "optC4, optgamma4 = run_kmeans(D,C4)"
   ]
  },
  {
   "cell_type": "code",
   "execution_count": null,
   "metadata": {
    "execution": {
     "iopub.execute_input": "2025-10-06T03:53:57.931543Z",
     "iopub.status.busy": "2025-10-06T03:53:57.931344Z",
     "iopub.status.idle": "2025-10-06T03:53:57.934446Z",
     "shell.execute_reply": "2025-10-06T03:53:57.934155Z"
    },
    "tags": [
     "otter_answer_cell"
    ]
   },
   "outputs": [],
   "source": [
    "optC8, optgamma8 = run_kmeans(D,C8)"
   ]
  },
  {
   "cell_type": "code",
   "execution_count": null,
   "metadata": {
    "deletable": false,
    "editable": false
   },
   "outputs": [],
   "source": [
    "grader.check(\"q7\")"
   ]
  },
  {
   "cell_type": "markdown",
   "metadata": {
    "deletable": false,
    "editable": false
   },
   "source": [
    "# 8) Evaluate the cost function \n",
    "Write a function that evaluates the cost function for a given dataset `D`, centroid placement `C`, and assignment matrix `gamma`. The cost function is the sum of the squared distances from each point (row in `D`) to its assigned centroid (row in `C`). The function should return `np.nan` if `C` is `None`."
   ]
  },
  {
   "cell_type": "code",
   "execution_count": null,
   "metadata": {
    "execution": {
     "iopub.execute_input": "2025-10-06T03:53:57.952914Z",
     "iopub.status.busy": "2025-10-06T03:53:57.952760Z",
     "iopub.status.idle": "2025-10-06T03:53:57.955392Z",
     "shell.execute_reply": "2025-10-06T03:53:57.955118Z"
    },
    "tags": [
     "otter_answer_cell"
    ]
   },
   "outputs": [],
   "source": [
    "def eval_cost(D,C,gamma):\n",
    "    if C is None:\n",
    "        return np.nan\n",
    "    K = ...   # TODO\n",
    "    cost = ...   # TODO (may involve a loop)\n",
    "    return cost"
   ]
  },
  {
   "cell_type": "code",
   "execution_count": null,
   "metadata": {
    "execution": {
     "iopub.execute_input": "2025-10-06T03:53:57.956589Z",
     "iopub.status.busy": "2025-10-06T03:53:57.956340Z",
     "iopub.status.idle": "2025-10-06T03:53:57.958234Z",
     "shell.execute_reply": "2025-10-06T03:53:57.957973Z"
    },
    "tags": [
     "otter_answer_cell"
    ]
   },
   "outputs": [],
   "source": [
    "J4 = eval_cost(D,optC4,optgamma4)"
   ]
  },
  {
   "cell_type": "code",
   "execution_count": null,
   "metadata": {
    "execution": {
     "iopub.execute_input": "2025-10-06T03:53:57.959325Z",
     "iopub.status.busy": "2025-10-06T03:53:57.959125Z",
     "iopub.status.idle": "2025-10-06T03:53:57.960680Z",
     "shell.execute_reply": "2025-10-06T03:53:57.960473Z"
    },
    "tags": [
     "otter_answer_cell"
    ]
   },
   "outputs": [],
   "source": [
    "J8 = eval_cost(D,optC8,optgamma8)"
   ]
  },
  {
   "cell_type": "code",
   "execution_count": null,
   "metadata": {
    "deletable": false,
    "editable": false
   },
   "outputs": [],
   "source": [
    "grader.check(\"q8\")"
   ]
  },
  {
   "cell_type": "markdown",
   "metadata": {
    "deletable": false,
    "editable": false
   },
   "source": [
    "# 9) Ensemble run\n",
    "Write a function that runs K-means multiple times, each with a different initial centroid placement. These initial placements should be chosen with `initialize_centroids(K,D)`. The function returns `best_run`, which is a dictionary containing the centroids (`C`), cost (`cost`), and assignment matrix (`gamma`) for the best of the ensemble of runs. \n",
    "\n",
    "The `ensemblesize` argument of the `ensemble_run` function is the number of runs of K-means to execute. \n",
    "\n",
    "Note that the function also takes `random_seed` as a fourth argument. This is used by the autograder to ensure repeatability of the results. You should **not** pass `random_seed` to `initialize_centroids`."
   ]
  },
  {
   "cell_type": "code",
   "execution_count": null,
   "metadata": {
    "execution": {
     "iopub.execute_input": "2025-10-06T03:53:57.978887Z",
     "iopub.status.busy": "2025-10-06T03:53:57.978728Z",
     "iopub.status.idle": "2025-10-06T03:53:57.981938Z",
     "shell.execute_reply": "2025-10-06T03:53:57.981695Z"
    },
    "tags": [
     "otter_answer_cell"
    ]
   },
   "outputs": [],
   "source": [
    "def ensemble_run(K,D,ensemblesize,random_seed=None):\n",
    "    if random_seed is not None:\n",
    "        np.random.seed(seed=random_seed)\n",
    "    best_run = {'C':None,'gamma':None,'cost':None}\n",
    "    for e in range(ensemblesize):\n",
    "        \n",
    "        # Run Kmeans with K randomly initialized centroids\n",
    "        # If an empty cluster is obtained, then repeat, and keep on repeating \n",
    "        # until the result has no empty clusters\n",
    "        ...   # TODO\n",
    "\n",
    "        # Evaluate the cost function \n",
    "        ...   # TODO\n",
    "\n",
    "        # Check whether this is the best result obtained so far, \n",
    "        # and if so, store it in best_run.\n",
    "        ...   # TODO\n",
    "  \n",
    "    return best_run"
   ]
  },
  {
   "cell_type": "code",
   "execution_count": null,
   "metadata": {
    "execution": {
     "iopub.execute_input": "2025-10-06T03:53:57.983077Z",
     "iopub.status.busy": "2025-10-06T03:53:57.982858Z",
     "iopub.status.idle": "2025-10-06T03:53:58.299910Z",
     "shell.execute_reply": "2025-10-06T03:53:58.299602Z"
    },
    "tags": [
     "otter_answer_cell"
    ]
   },
   "outputs": [],
   "source": [
    "D = load_data()\n",
    "best_run_K4 = ensemble_run(4,D,ensemblesize=100,random_seed=5423)"
   ]
  },
  {
   "cell_type": "code",
   "execution_count": null,
   "metadata": {
    "deletable": false,
    "editable": false
   },
   "outputs": [],
   "source": [
    "grader.check(\"q9\")"
   ]
  },
  {
   "cell_type": "markdown",
   "metadata": {
    "deletable": false,
    "editable": false
   },
   "source": [
    "# 10) Iteration over K\n",
    "Complete the function below that takes the data matrix `D`, an ensemble size `ensemblesize`, and a maximum number of clusters to consider (`maxK`).  The function should run `ensemble_run` for all values of `K` from 1 to `maxK`, and return a numpy array of length `maxK` with the best case cost for each value of `K`. \n",
    "\n",
    "A random seed is passed in to the function for the autograder. Please pass this seed on to the `ensemble_run` function."
   ]
  },
  {
   "cell_type": "code",
   "execution_count": null,
   "metadata": {
    "execution": {
     "iopub.execute_input": "2025-10-06T03:53:59.580013Z",
     "iopub.status.busy": "2025-10-06T03:53:59.579716Z",
     "iopub.status.idle": "2025-10-06T03:53:59.582761Z",
     "shell.execute_reply": "2025-10-06T03:53:59.582475Z"
    },
    "tags": [
     "otter_answer_cell"
    ]
   },
   "outputs": [],
   "source": [
    "def K_iteration(D, ensemblesize, maxK,random_seed=None):\n",
    "    if random_seed is not None:\n",
    "        np.random.seed(seed=random_seed)\n",
    "    best_cost = np.empty(maxK)\n",
    "    for ind in range(maxK):\n",
    "        ...   # TODO\n",
    "    return best_cost"
   ]
  },
  {
   "cell_type": "code",
   "execution_count": null,
   "metadata": {
    "execution": {
     "iopub.execute_input": "2025-10-06T03:53:59.584062Z",
     "iopub.status.busy": "2025-10-06T03:53:59.583767Z",
     "iopub.status.idle": "2025-10-06T03:54:03.525827Z",
     "shell.execute_reply": "2025-10-06T03:54:03.525455Z"
    },
    "tags": [
     "otter_answer_cell"
    ]
   },
   "outputs": [],
   "source": [
    "ensemblesize=100\n",
    "maxK=10\n",
    "best_cost = K_iteration(D, ensemblesize, maxK,random_seed=452)"
   ]
  },
  {
   "cell_type": "code",
   "execution_count": null,
   "metadata": {
    "deletable": false,
    "editable": false
   },
   "outputs": [],
   "source": [
    "grader.check(\"q10\")"
   ]
  },
  {
   "cell_type": "markdown",
   "metadata": {
    "deletable": false,
    "editable": false
   },
   "source": [
    "# 11) Selecting K\n",
    "\n",
    "Running the cell below will produce a plot showing the performance of the algorithm for different values of `K` ranging from 1 to 10 (calculated in the previous part). The top row shows the cost function, which naturally decreases monotonically with increasing `K`. The bottom plot shows the percentage improvement from one value of `K` to the next. What is the best value of `K` to choose according to these plots? "
   ]
  },
  {
   "cell_type": "code",
   "execution_count": null,
   "metadata": {
    "deletable": false,
    "editable": false,
    "execution": {
     "iopub.execute_input": "2025-10-06T03:54:07.364999Z",
     "iopub.status.busy": "2025-10-06T03:54:07.364850Z",
     "iopub.status.idle": "2025-10-06T03:54:11.262133Z",
     "shell.execute_reply": "2025-10-06T03:54:11.261752Z"
    }
   },
   "outputs": [],
   "source": [
    "ensemblesize=100\n",
    "maxK=10\n",
    "best_cost = K_iteration(D, ensemblesize, maxK,random_seed=452)\n",
    "\n",
    "fig, ax = plt.subplots(figsize=(8,5),nrows=2,sharex=True)\n",
    "\n",
    "ax[0].plot(range(1,maxK+1),best_cost,\n",
    "         linewidth=3,\n",
    "         marker='o',\n",
    "         markersize=8)\n",
    "ax[0].grid()\n",
    "ax[0].set_ylabel('Cost')\n",
    "\n",
    "ax[1].plot(range(2,maxK+1),100*np.abs(np.diff(best_cost)) / best_cost[1:],\n",
    "         linewidth=3,\n",
    "         marker='o',\n",
    "         markersize=8)\n",
    "ax[1].grid()\n",
    "ax[1].set_ylabel('Cost improvement')\n",
    "ax[1].set_xlabel('K')"
   ]
  },
  {
   "cell_type": "code",
   "execution_count": null,
   "metadata": {
    "execution": {
     "iopub.execute_input": "2025-10-06T03:54:11.263714Z",
     "iopub.status.busy": "2025-10-06T03:54:11.263391Z",
     "iopub.status.idle": "2025-10-06T03:54:11.265859Z",
     "shell.execute_reply": "2025-10-06T03:54:11.265605Z"
    },
    "tags": [
     "otter_answer_cell"
    ]
   },
   "outputs": [],
   "source": [
    "Kideal = ...   # TODO"
   ]
  },
  {
   "cell_type": "code",
   "execution_count": null,
   "metadata": {
    "deletable": false,
    "editable": false
   },
   "outputs": [],
   "source": [
    "grader.check(\"q11\")"
   ]
  },
  {
   "cell_type": "markdown",
   "metadata": {
    "deletable": false,
    "editable": false
   },
   "source": [
    "---\n",
    "\n",
    "To double-check your work, the cell below will rerun all of the autograder tests."
   ]
  },
  {
   "cell_type": "code",
   "execution_count": null,
   "metadata": {
    "deletable": false,
    "editable": false
   },
   "outputs": [],
   "source": [
    "grader.check_all()"
   ]
  },
  {
   "cell_type": "markdown",
   "metadata": {
    "deletable": false,
    "editable": false
   },
   "source": [
    "## Submission\n",
    "\n",
    "Make sure you have run all cells in your notebook in order before running the cell below, so that all images/graphs appear in the output. The cell below will generate a zip file for you to submit. **Please save before exporting!**\n",
    "\n",
    "Make sure you submit the .zip file to Gradescope."
   ]
  },
  {
   "cell_type": "code",
   "execution_count": null,
   "metadata": {
    "deletable": false,
    "editable": false
   },
   "outputs": [],
   "source": [
    "# Save your notebook first, then run this cell to export your submission.\n",
    "grader.export(pdf=False)"
   ]
  },
  {
   "cell_type": "markdown",
   "metadata": {},
   "source": [
    " "
   ]
  }
 ],
 "metadata": {
  "kernelspec": {
   "display_name": "sdse",
   "language": "python",
   "name": "python3"
  },
  "language_info": {
   "codemirror_mode": {
    "name": "ipython",
    "version": 3
   },
   "file_extension": ".py",
   "mimetype": "text/x-python",
   "name": "python",
   "nbconvert_exporter": "python",
   "pygments_lexer": "ipython3",
   "version": "3.12.3"
  },
  "otter": {
   "OK_FORMAT": true,
   "assignment_name": "lab3",
   "tests": {
    "q1": {
     "name": "q1",
     "points": null,
     "suites": [
      {
       "cases": [
        {
         "code": ">>> N > 0 and N < 1000 and (P > 0) and (P < 10)\nTrue",
         "hidden": false,
         "locked": false,
         "points": 0
        },
        {
         "code": ">>> 'D' in globals() and 'N' in globals() and ('P' in globals())\nTrue",
         "hidden": false,
         "locked": false,
         "points": 0
        },
        {
         "code": ">>> get_hash(N, 3) == '62dca49f0781bf26b4305bddb0414bea' and get_hash(P, 3) == 'd1bd83a33f1a841ab7fda32449746cc4'\nTrue",
         "hidden": false,
         "locked": false,
         "points": 1
        }
       ],
       "scored": true,
       "setup": "",
       "teardown": "",
       "type": "doctest"
      }
     ]
    },
    "q10": {
     "name": "q10",
     "points": null,
     "suites": [
      {
       "cases": [
        {
         "code": ">>> D = load_data()\n>>> best_costtest = K_iteration(D, ensemblesize=10, maxK=1, random_seed=452)\n>>> bool(np.isclose(best_costtest[0], 2895.67902369, 0.01))\nTrue",
         "hidden": false,
         "locked": false,
         "points": 1
        },
        {
         "code": ">>> D = load_data()\n>>> best_costtest = K_iteration(D, ensemblesize=100, maxK=10, random_seed=452)\n>>> get_hash(best_costtest, 5) == 'c070c08e49f82aa6ae15c68ed36047cd'\nTrue",
         "hidden": false,
         "locked": false,
         "points": 2
        }
       ],
       "scored": true,
       "setup": "",
       "teardown": "",
       "type": "doctest"
      }
     ]
    },
    "q11": {
     "name": "q11",
     "points": null,
     "suites": [
      {
       "cases": [
        {
         "code": ">>> get_hash(Kideal, 2) == '07078a97d66756f213dbca3e379bf084'\nTrue",
         "hidden": false,
         "locked": false,
         "points": 1
        }
       ],
       "scored": true,
       "setup": "",
       "teardown": "",
       "type": "doctest"
      }
     ]
    },
    "q3": {
     "name": "q3",
     "points": null,
     "suites": [
      {
       "cases": [
        {
         "code": ">>> D = load_data()\n>>> initialize_centroids(5, D).shape == (5, 2)\nTrue",
         "hidden": false,
         "locked": false,
         "points": 0
        },
        {
         "code": ">>> D = load_data()\n>>> initialize_centroids(0, D).shape == (0, 2)\nTrue",
         "hidden": false,
         "locked": false,
         "points": 0
        },
        {
         "code": ">>> D = load_data()\n>>> C4 = initialize_centroids(4, D, random_seed=234)\n>>> get_hash(C4, 4) == '9d6a72ef9e4ebf34c46c6ad19b912acf'\nTrue",
         "hidden": false,
         "locked": false,
         "points": 1
        },
        {
         "code": ">>> D = load_data()\n>>> C8 = initialize_centroids(8, D, random_seed=324)\n>>> get_hash(C8, 4) == 'b30aa51cab4e83d4ef8cbdc0b125d102'\nTrue",
         "hidden": false,
         "locked": false,
         "points": 1
        }
       ],
       "scored": true,
       "setup": "",
       "teardown": "",
       "type": "doctest"
      }
     ]
    },
    "q4": {
     "name": "q4",
     "points": null,
     "suites": [
      {
       "cases": [
        {
         "code": ">>> D = load_data()\n>>> C4test = initialize_centroids(4, D, random_seed=535)\n>>> gamma4test = assign_samples_to_nearest_centroid(D, C4test)\n>>> gamma4test.shape == (100, 4) and bool(np.all(np.sum(gamma4test, axis=1) == 1))\nTrue",
         "hidden": false,
         "locked": false,
         "points": 0
        },
        {
         "code": ">>> D = load_data()\n>>> C4test = initialize_centroids(4, D, random_seed=535)\n>>> gamma4test = assign_samples_to_nearest_centroid(D, C4test)\n>>> get_hash(gamma4test, 1) == 'eeafca1dd0f183eaeb0f1319a501c769'\nTrue",
         "hidden": false,
         "locked": false,
         "points": 1
        },
        {
         "code": ">>> D = load_data()\n>>> C8test = initialize_centroids(8, D, random_seed=342)\n>>> gamma8test = assign_samples_to_nearest_centroid(D, C8test)\n>>> get_hash(gamma8test, 1) == '8c0ba8cb5932d639830d2582061cff04'\nTrue",
         "hidden": false,
         "locked": false,
         "points": 1
        }
       ],
       "scored": true,
       "setup": "",
       "teardown": "",
       "type": "doctest"
      }
     ]
    },
    "q6": {
     "name": "q6",
     "points": null,
     "suites": [
      {
       "cases": [
        {
         "code": ">>> D = load_data()\n>>> C4test = initialize_centroids(4, D, random_seed=535)\n>>> gamma4test = assign_samples_to_nearest_centroid(D, C4test)\n>>> newC4test = place_centroids(gamma4test, D)\n>>> get_hash(newC4test, 3) == 'e0bffc7a744a0a0b2f9e26598aac7410'\nTrue",
         "hidden": false,
         "locked": false,
         "points": 1
        },
        {
         "code": ">>> D = load_data()\n>>> C8test = initialize_centroids(8, D, random_seed=342)\n>>> gamma8test = assign_samples_to_nearest_centroid(D, C8test)\n>>> newC8test = place_centroids(gamma8test, D)\n>>> get_hash(newC8test, 3) == '4920c891de27e20a1a3360904daddaaf'\nTrue",
         "hidden": false,
         "locked": false,
         "points": 1
        }
       ],
       "scored": true,
       "setup": "",
       "teardown": "",
       "type": "doctest"
      }
     ]
    },
    "q7": {
     "name": "q7",
     "points": null,
     "suites": [
      {
       "cases": [
        {
         "code": ">>> D = load_data()\n>>> C4test = initialize_centroids(4, D, random_seed=535)\n>>> optC4test, optgamma4test = run_kmeans(D, C4test)\n>>> get_hash(optC4test, 3) == '6cdd8be987f900b714222e460052de9c'\nTrue",
         "hidden": false,
         "locked": false,
         "points": 3
        },
        {
         "code": ">>> D = load_data()\n>>> C8test = initialize_centroids(8, D, random_seed=342)\n>>> optC8test, optgamma8test = run_kmeans(D, C8test)\n>>> get_hash(optC8test, 3) == '42e62c885abe48705d1847cb793c3ffc'\nTrue",
         "hidden": false,
         "locked": false,
         "points": 2
        },
        {
         "code": ">>> D = load_data()\n>>> C8test = initialize_centroids(8, D, random_seed=341)\n>>> optC8test, optgamma8test = run_kmeans(D, C8test)\n>>> optC8test is None and optgamma8test is None\nTrue",
         "hidden": false,
         "locked": false,
         "points": 2
        }
       ],
       "scored": true,
       "setup": "",
       "teardown": "",
       "type": "doctest"
      }
     ]
    },
    "q8": {
     "name": "q8",
     "points": null,
     "suites": [
      {
       "cases": [
        {
         "code": ">>> D = load_data()\n>>> C4test = initialize_centroids(4, D, random_seed=535)\n>>> optC4test, optgamma4test = run_kmeans(D, C4test)\n>>> J4test = eval_cost(D, optC4test, optgamma4test)\n>>> bool(J4test > 100 and J4test < 1000)\nTrue",
         "hidden": false,
         "locked": false,
         "points": 0
        },
        {
         "code": ">>> D = load_data()\n>>> C4test = initialize_centroids(4, D, random_seed=535)\n>>> optC4test, optgamma4test = run_kmeans(D, C4test)\n>>> J4test = eval_cost(D, optC4test, optgamma4test)\n>>> get_hash(J4test, 4) == '2d401431707d1fbfa9a9c35d6248148b'\nTrue",
         "hidden": false,
         "locked": false,
         "points": 1
        },
        {
         "code": ">>> D = load_data()\n>>> C8test = initialize_centroids(8, D, random_seed=341)\n>>> optC8test, optgamma8test = run_kmeans(D, C8test)\n>>> J8test = eval_cost(D, optC8test, optgamma8test)\n>>> bool(np.isnan(J8test))\nTrue",
         "hidden": false,
         "locked": false,
         "points": 1
        }
       ],
       "scored": true,
       "setup": "",
       "teardown": "",
       "type": "doctest"
      }
     ]
    },
    "q9": {
     "name": "q9",
     "points": null,
     "suites": [
      {
       "cases": [
        {
         "code": ">>> D = load_data()\n>>> best_run_K4test = ensemble_run(4, D, ensemblesize=100, random_seed=5423)\n>>> ind = np.argsort(np.linalg.norm(best_run_K4test['C'], axis=1))\n>>> Ctest = best_run_K4test['C'][ind, :]\n>>> gammatest = best_run_K4test['gamma'][:, ind]\n>>> Ctest.shape == (4, 2) and gammatest.shape == (100, 4)\nTrue",
         "hidden": false,
         "locked": false,
         "points": 0
        },
        {
         "code": ">>> D = load_data()\n>>> best_run_K4test = ensemble_run(4, D, ensemblesize=100, random_seed=5423)\n>>> ind = np.argsort(np.linalg.norm(best_run_K4test['C'], axis=1))\n>>> Ctest = best_run_K4test['C'][ind, :]\n>>> gammatest = best_run_K4test['gamma'][:, ind]\n>>> get_hash(Ctest, 4) == '2eb53b26423d323a71ab6149f3248fcb' and get_hash(gammatest, 1) == '1d4e588440d3b1a9217113b32f04a4bf'\nTrue",
         "hidden": false,
         "locked": false,
         "points": 2
        },
        {
         "code": ">>> D = load_data()\n>>> best_run_K8test = ensemble_run(8, D, ensemblesize=100, random_seed=341)\n>>> ind = np.argsort(np.linalg.norm(best_run_K8test['C'], axis=1))\n>>> Ctest = best_run_K8test['C'][ind, :]\n>>> gammatest = best_run_K8test['gamma'][:, ind]\n>>> get_hash(Ctest, 4) == '6ca52ed756cbeafaf59101357a3997a1' and get_hash(gammatest, 1) == '584db94af943e090e3a80d655fc65bf2'\nTrue",
         "hidden": false,
         "locked": false,
         "points": 2
        }
       ],
       "scored": true,
       "setup": "",
       "teardown": "",
       "type": "doctest"
      }
     ]
    }
   }
  }
 },
 "nbformat": 4,
 "nbformat_minor": 2
}
